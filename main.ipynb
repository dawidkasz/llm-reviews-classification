{
 "cells": [
  {
   "cell_type": "code",
   "execution_count": 15,
   "id": "initial_id",
   "metadata": {
    "collapsed": true,
    "ExecuteTime": {
     "end_time": "2024-01-05T14:09:42.779783141Z",
     "start_time": "2024-01-05T14:09:42.731510406Z"
    }
   },
   "outputs": [],
   "source": [
    "import os\n",
    "\n",
    "import pandas as pd\n",
    "import numpy as np\n",
    "\n",
    "from sklearn.metrics import classification_report, accuracy_score\n",
    "\n",
    "from openai import OpenAI\n",
    "from dotenv import load_dotenv"
   ]
  },
  {
   "cell_type": "code",
   "execution_count": 16,
   "outputs": [],
   "source": [
    "load_dotenv()\n",
    "\n",
    "OPENAI_API_KEY = os.getenv(\"OPENAI_API_KEY\")\n",
    "\n",
    "DATASET_PATH = \"reviews.csv\"\n",
    "\n",
    "TEST_SAMPLE_SIZE = 20\n",
    "\n",
    "MODEL = \"gpt-3.5-turbo\"\n",
    "\n",
    "SYS_PROMPT = \"\"\"\n",
    "You will be provided a movie review.\n",
    "Your goal is to classify it as either \"positive\" or \"negative\".\n",
    "Use exactly one word in your answer.\n",
    "\"\"\"\n",
    "USER_PROMPT = \"Review: {}\""
   ],
   "metadata": {
    "collapsed": false,
    "ExecuteTime": {
     "end_time": "2024-01-05T14:09:44.103425109Z",
     "start_time": "2024-01-05T14:09:44.090154129Z"
    }
   },
   "id": "5b35507227612a5f"
  },
  {
   "cell_type": "code",
   "execution_count": 17,
   "outputs": [],
   "source": [
    "def translate_model_response(model_response: str) -> str:\n",
    "    model_response = model_response.lower()\n",
    "    \n",
    "    if \"positive\" in model_response:\n",
    "        return \"positive\"\n",
    "    \n",
    "    if \"negative\" in model_response:\n",
    "        return \"negative\"\n",
    "    \n",
    "    return None\n",
    "\n",
    "def classify_review(client: OpenAI, review: str) -> str:\n",
    "    response = client.chat.completions.create(\n",
    "        messages=[\n",
    "            {\"role\": \"system\", \"content\": SYS_PROMPT.strip().replace(\"\\n\", \" \")},\n",
    "            {\"role\": \"user\", \"content\": USER_PROMPT.format(review)},\n",
    "        ],\n",
    "        model=MODEL,\n",
    "    )\n",
    "    \n",
    "    return response.choices[0].message.content\n"
   ],
   "metadata": {
    "collapsed": false,
    "ExecuteTime": {
     "end_time": "2024-01-05T14:09:45.996677954Z",
     "start_time": "2024-01-05T14:09:45.978735219Z"
    }
   },
   "id": "f0e64141806b69e8"
  },
  {
   "cell_type": "code",
   "execution_count": 18,
   "outputs": [],
   "source": [
    "openai_client = OpenAI(api_key=OPENAI_API_KEY)"
   ],
   "metadata": {
    "collapsed": false,
    "ExecuteTime": {
     "end_time": "2024-01-05T14:09:46.961066465Z",
     "start_time": "2024-01-05T14:09:46.891883321Z"
    }
   },
   "id": "c6cf348c86dbc87e"
  },
  {
   "cell_type": "code",
   "execution_count": 19,
   "outputs": [
    {
     "data": {
      "text/plain": "                                               review sentiment\n0   One of the other reviewers has mentioned that ...  positive\n1   A wonderful little production. <br /><br />The...  positive\n2   I thought this was a wonderful way to spend ti...  positive\n3   Basically there's a family where a little boy ...  negative\n4   Petter Mattei's \"Love in the Time of Money\" is...  positive\n5   Probably my all-time favorite movie, a story o...  positive\n6   I sure would like to see a resurrection of a u...  positive\n7   This show was an amazing, fresh & innovative i...  negative\n8   Encouraged by the positive comments about this...  negative\n9   If you like original gut wrenching laughter yo...  positive\n10  Phil the Alien is one of those quirky films wh...  negative\n11  I saw this movie when I was about 12 when it c...  negative\n12  So im not a big fan of Boll's work but then ag...  negative\n13  The cast played Shakespeare.<br /><br />Shakes...  negative\n14  This a fantastic movie of three prisoners who ...  positive\n15  Kind of drawn in by the erotic scenes, only to...  negative\n16  Some films just simply should not be remade. T...  positive\n17  This movie made it into one of my top 10 most ...  negative\n18  I remember this film,it was the first film i h...  positive\n19  An awful film! It must have been up against so...  negative",
      "text/html": "<div>\n<style scoped>\n    .dataframe tbody tr th:only-of-type {\n        vertical-align: middle;\n    }\n\n    .dataframe tbody tr th {\n        vertical-align: top;\n    }\n\n    .dataframe thead th {\n        text-align: right;\n    }\n</style>\n<table border=\"1\" class=\"dataframe\">\n  <thead>\n    <tr style=\"text-align: right;\">\n      <th></th>\n      <th>review</th>\n      <th>sentiment</th>\n    </tr>\n  </thead>\n  <tbody>\n    <tr>\n      <th>0</th>\n      <td>One of the other reviewers has mentioned that ...</td>\n      <td>positive</td>\n    </tr>\n    <tr>\n      <th>1</th>\n      <td>A wonderful little production. &lt;br /&gt;&lt;br /&gt;The...</td>\n      <td>positive</td>\n    </tr>\n    <tr>\n      <th>2</th>\n      <td>I thought this was a wonderful way to spend ti...</td>\n      <td>positive</td>\n    </tr>\n    <tr>\n      <th>3</th>\n      <td>Basically there's a family where a little boy ...</td>\n      <td>negative</td>\n    </tr>\n    <tr>\n      <th>4</th>\n      <td>Petter Mattei's \"Love in the Time of Money\" is...</td>\n      <td>positive</td>\n    </tr>\n    <tr>\n      <th>5</th>\n      <td>Probably my all-time favorite movie, a story o...</td>\n      <td>positive</td>\n    </tr>\n    <tr>\n      <th>6</th>\n      <td>I sure would like to see a resurrection of a u...</td>\n      <td>positive</td>\n    </tr>\n    <tr>\n      <th>7</th>\n      <td>This show was an amazing, fresh &amp; innovative i...</td>\n      <td>negative</td>\n    </tr>\n    <tr>\n      <th>8</th>\n      <td>Encouraged by the positive comments about this...</td>\n      <td>negative</td>\n    </tr>\n    <tr>\n      <th>9</th>\n      <td>If you like original gut wrenching laughter yo...</td>\n      <td>positive</td>\n    </tr>\n    <tr>\n      <th>10</th>\n      <td>Phil the Alien is one of those quirky films wh...</td>\n      <td>negative</td>\n    </tr>\n    <tr>\n      <th>11</th>\n      <td>I saw this movie when I was about 12 when it c...</td>\n      <td>negative</td>\n    </tr>\n    <tr>\n      <th>12</th>\n      <td>So im not a big fan of Boll's work but then ag...</td>\n      <td>negative</td>\n    </tr>\n    <tr>\n      <th>13</th>\n      <td>The cast played Shakespeare.&lt;br /&gt;&lt;br /&gt;Shakes...</td>\n      <td>negative</td>\n    </tr>\n    <tr>\n      <th>14</th>\n      <td>This a fantastic movie of three prisoners who ...</td>\n      <td>positive</td>\n    </tr>\n    <tr>\n      <th>15</th>\n      <td>Kind of drawn in by the erotic scenes, only to...</td>\n      <td>negative</td>\n    </tr>\n    <tr>\n      <th>16</th>\n      <td>Some films just simply should not be remade. T...</td>\n      <td>positive</td>\n    </tr>\n    <tr>\n      <th>17</th>\n      <td>This movie made it into one of my top 10 most ...</td>\n      <td>negative</td>\n    </tr>\n    <tr>\n      <th>18</th>\n      <td>I remember this film,it was the first film i h...</td>\n      <td>positive</td>\n    </tr>\n    <tr>\n      <th>19</th>\n      <td>An awful film! It must have been up against so...</td>\n      <td>negative</td>\n    </tr>\n  </tbody>\n</table>\n</div>"
     },
     "execution_count": 19,
     "metadata": {},
     "output_type": "execute_result"
    }
   ],
   "source": [
    "dataset = pd.read_csv(DATASET_PATH, nrows=TEST_SAMPLE_SIZE)\n",
    "dataset"
   ],
   "metadata": {
    "collapsed": false,
    "ExecuteTime": {
     "end_time": "2024-01-05T14:09:47.918759023Z",
     "start_time": "2024-01-05T14:09:47.901930391Z"
    }
   },
   "id": "29dbd841c91efa70"
  },
  {
   "cell_type": "code",
   "execution_count": 20,
   "outputs": [
    {
     "data": {
      "text/plain": "array(['Positive', 'Positive', 'positive', 'negative', 'Positive',\n       'Positive', 'Positive', 'negative', 'negative', 'Positive',\n       'Negative', 'Negative.', 'Negative', 'negative', 'Positive',\n       'Negative', 'negative', 'negative', 'negative', 'Negative'],\n      dtype='<U9')"
     },
     "execution_count": 20,
     "metadata": {},
     "output_type": "execute_result"
    }
   ],
   "source": [
    "raw_predictions = np.array([classify_review(openai_client, review) for review in dataset[\"review\"]])\n",
    "raw_predictions"
   ],
   "metadata": {
    "collapsed": false,
    "ExecuteTime": {
     "end_time": "2024-01-05T14:09:59.824394636Z",
     "start_time": "2024-01-05T14:09:49.084889989Z"
    }
   },
   "id": "e5f3f26b56d56499"
  },
  {
   "cell_type": "code",
   "execution_count": 21,
   "outputs": [
    {
     "data": {
      "text/plain": "array(['positive', 'positive', 'positive', 'negative', 'positive',\n       'positive', 'positive', 'negative', 'negative', 'positive',\n       'negative', 'negative', 'negative', 'negative', 'positive',\n       'negative', 'negative', 'negative', 'negative', 'negative'],\n      dtype='<U8')"
     },
     "execution_count": 21,
     "metadata": {},
     "output_type": "execute_result"
    }
   ],
   "source": [
    "predictions = np.array(list(map(translate_model_response, raw_predictions)))  \n",
    "predictions"
   ],
   "metadata": {
    "collapsed": false,
    "ExecuteTime": {
     "end_time": "2024-01-05T14:10:01.621387276Z",
     "start_time": "2024-01-05T14:10:01.609393680Z"
    }
   },
   "id": "c43818379cf3e77a"
  },
  {
   "cell_type": "code",
   "execution_count": 22,
   "outputs": [
    {
     "data": {
      "text/plain": "0.9"
     },
     "execution_count": 22,
     "metadata": {},
     "output_type": "execute_result"
    }
   ],
   "source": [
    "accuracy = accuracy_score(dataset[\"sentiment\"], predictions)\n",
    "accuracy"
   ],
   "metadata": {
    "collapsed": false,
    "ExecuteTime": {
     "end_time": "2024-01-05T14:10:03.560898077Z",
     "start_time": "2024-01-05T14:10:03.553925899Z"
    }
   },
   "id": "129038779d648c11"
  },
  {
   "cell_type": "code",
   "execution_count": 23,
   "outputs": [
    {
     "name": "stdout",
     "output_type": "stream",
     "text": [
      "              precision    recall  f1-score   support\n",
      "\n",
      "    negative       0.83      1.00      0.91        10\n",
      "    positive       1.00      0.80      0.89        10\n",
      "\n",
      "    accuracy                           0.90        20\n",
      "   macro avg       0.92      0.90      0.90        20\n",
      "weighted avg       0.92      0.90      0.90        20\n"
     ]
    }
   ],
   "source": [
    "report = classification_report(dataset[\"sentiment\"], predictions)\n",
    "print(report)"
   ],
   "metadata": {
    "collapsed": false,
    "ExecuteTime": {
     "end_time": "2024-01-05T14:10:04.748685121Z",
     "start_time": "2024-01-05T14:10:04.728831761Z"
    }
   },
   "id": "3c0d38506bd13fd4"
  },
  {
   "cell_type": "code",
   "execution_count": null,
   "outputs": [],
   "source": [],
   "metadata": {
    "collapsed": false
   },
   "id": "1c0362f5b9566ab4"
  }
 ],
 "metadata": {
  "kernelspec": {
   "display_name": "Python 3",
   "language": "python",
   "name": "python3"
  },
  "language_info": {
   "codemirror_mode": {
    "name": "ipython",
    "version": 2
   },
   "file_extension": ".py",
   "mimetype": "text/x-python",
   "name": "python",
   "nbconvert_exporter": "python",
   "pygments_lexer": "ipython2",
   "version": "2.7.6"
  }
 },
 "nbformat": 4,
 "nbformat_minor": 5
}
